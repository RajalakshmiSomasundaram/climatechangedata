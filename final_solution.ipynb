{
  "nbformat": 4,
  "nbformat_minor": 0,
  "metadata": {
    "colab": {
      "name": "final_solution.ipynb",
      "provenance": [],
      "collapsed_sections": []
    },
    "kernelspec": {
      "name": "python3",
      "display_name": "Python 3"
    },
    "language_info": {
      "name": "python"
    }
  },
  "cells": [
    {
      "cell_type": "markdown",
      "source": [
        "Let us explore statistical and trends in climate change data of the countries of the world.\n",
        "\n",
        "The data is downloaded from https://data.worldbank.org/topic/climate-change and contains[link text](https://) data from the year 1960 to 2020."
      ],
      "metadata": {
        "id": "EjqxRCVFF5al"
      }
    },
    {
      "cell_type": "markdown",
      "source": [
        "Let us first import the nescessary modules."
      ],
      "metadata": {
        "id": "c_Rq5jGIHKgQ"
      }
    },
    {
      "cell_type": "code",
      "source": [
        "import pandas as pd\n",
        "import numpy as np\n",
        "import matplotlib.pyplot as plt\n",
        "\n",
        "%matplotlib inline"
      ],
      "metadata": {
        "id": "4AZoLOjpHFDj"
      },
      "execution_count": 71,
      "outputs": []
    },
    {
      "cell_type": "markdown",
      "source": [
        "Let us make sure that the xlrd version is 1.2.0 \n",
        "\n",
        "This will help us to read any excel (xls) file."
      ],
      "metadata": {
        "id": "9u2B-GM1Hb3C"
      }
    },
    {
      "cell_type": "code",
      "source": [
        "!pip install xlrd==1.2.0"
      ],
      "metadata": {
        "colab": {
          "base_uri": "https://localhost:8080/"
        },
        "id": "9aKkh47MAqz3",
        "outputId": "c4a83db0-c397-4dcc-cafb-98a3422a3e59"
      },
      "execution_count": 72,
      "outputs": [
        {
          "output_type": "stream",
          "name": "stdout",
          "text": [
            "Requirement already satisfied: xlrd==1.2.0 in /usr/local/lib/python3.7/dist-packages (1.2.0)\n"
          ]
        }
      ]
    },
    {
      "cell_type": "markdown",
      "source": [
        "Let us ingest and manipulate the data from the excel file using Pandas."
      ],
      "metadata": {
        "id": "6sbgJ5qIH4Nw"
      }
    },
    {
      "cell_type": "code",
      "source": [
        "def explore_climate_change(filename):\n",
        "\n",
        "  ''' Takes in the filename, read, process and return two dataframes'''\n",
        "\n",
        "  #reading the excel file and storing as a dataframe\n",
        "\n",
        "  df = pd.read_excel(filename, sheet_name = 0, skiprows=3)\n",
        "\n",
        "  #processing dataframe to make Country Name as one of the columns\n",
        "\n",
        "  df_country_as_column = df.set_index('Country Name')\n",
        "\n",
        "  #processing dataframe to make year as one of the columns\n",
        "\n",
        "  df_year_as_column = df.melt(id_vars=['Country Name', 'Country Code', 'Indicator Name', 'Indicator Code' ], \n",
        "                              var_name=\"Year\", \n",
        "                              value_name=\"Value\")\n",
        "  df_year_as_column = df_year_as_column.set_index('Year')\n",
        "\n",
        "\n",
        "  return df_country_as_column, df_year_as_column\n",
        "  \n"
      ],
      "metadata": {
        "id": "urgAU1e6A7YR"
      },
      "execution_count": 76,
      "outputs": []
    },
    {
      "cell_type": "code",
      "source": [
        "file = r'/content/drive/MyDrive/world_data_climatechange.xls'\n",
        "\n",
        "df_country_as_column, df_year_as_column = explore_climate_change(file)"
      ],
      "metadata": {
        "id": "r7nodmf5BuIU"
      },
      "execution_count": 77,
      "outputs": []
    },
    {
      "cell_type": "markdown",
      "source": [
        "Let us explore the statistical proterties of the few indicators listed below."
      ],
      "metadata": {
        "id": "QLsPDuviLnH8"
      }
    },
    {
      "cell_type": "code",
      "source": [
        "df_country_as_column['Indicator Name']. unique()"
      ],
      "metadata": {
        "colab": {
          "base_uri": "https://localhost:8080/"
        },
        "id": "PwzXHmQgLmMM",
        "outputId": "67b48e0e-4ea3-4fda-dad3-207da7925f67"
      },
      "execution_count": 78,
      "outputs": [
        {
          "output_type": "execute_result",
          "data": {
            "text/plain": [
              "array(['Urban population (% of total population)', 'Urban population',\n",
              "       'Urban population growth (annual %)', 'Population, total',\n",
              "       'Population growth (annual %)',\n",
              "       'Poverty headcount ratio at $1.90 a day (2011 PPP) (% of population)',\n",
              "       'Prevalence of underweight, weight for age (% of children under 5)',\n",
              "       'Community health workers (per 1,000 people)',\n",
              "       'Mortality rate, under-5 (per 1,000 live births)',\n",
              "       'Primary completion rate, total (% of relevant age group)',\n",
              "       'School enrollment, primary and secondary (gross), gender parity index (GPI)',\n",
              "       'Agriculture, forestry, and fishing, value added (% of GDP)',\n",
              "       'CPIA public sector management and institutions cluster average (1=low to 6=high)',\n",
              "       'Ease of doing business rank (1=most business-friendly regulations)',\n",
              "       'Terrestrial and marine protected areas (% of total territorial area)',\n",
              "       'Marine protected areas (% of territorial waters)',\n",
              "       'Terrestrial protected areas (% of total land area)',\n",
              "       'Annual freshwater withdrawals, total (% of internal resources)',\n",
              "       'Annual freshwater withdrawals, total (billion cubic meters)',\n",
              "       'Population in urban agglomerations of more than 1 million (% of total population)',\n",
              "       'Population living in areas where elevation is below 5 meters (% of total population)',\n",
              "       'Urban population living in areas where elevation is below 5 meters (% of total population)',\n",
              "       'Rural population living in areas where elevation is below 5 meters (% of total population)',\n",
              "       'Droughts, floods, extreme temperatures (% of population, average 1990-2009)',\n",
              "       'GHG net emissions/removals by LUCF (Mt of CO2 equivalent)',\n",
              "       'Disaster risk reduction progress score (1-5 scale; 5=best)',\n",
              "       'SF6 gas emissions (thousand metric tons of CO2 equivalent)',\n",
              "       'PFC gas emissions (thousand metric tons of CO2 equivalent)',\n",
              "       'Nitrous oxide emissions (% change from 1990)',\n",
              "       'Nitrous oxide emissions (thousand metric tons of CO2 equivalent)',\n",
              "       'Methane emissions (% change from 1990)',\n",
              "       'Methane emissions (kt of CO2 equivalent)',\n",
              "       'HFC gas emissions (thousand metric tons of CO2 equivalent)',\n",
              "       'Total greenhouse gas emissions (% change from 1990)',\n",
              "       'Total greenhouse gas emissions (kt of CO2 equivalent)',\n",
              "       'Other greenhouse gas emissions (% change from 1990)',\n",
              "       'Other greenhouse gas emissions, HFC, PFC and SF6 (thousand metric tons of CO2 equivalent)',\n",
              "       'CO2 emissions from solid fuel consumption (% of total)',\n",
              "       'CO2 emissions from solid fuel consumption (kt)',\n",
              "       'CO2 emissions (kg per 2017 PPP $ of GDP)',\n",
              "       'CO2 emissions (kg per PPP $ of GDP)',\n",
              "       'CO2 emissions (metric tons per capita)',\n",
              "       'CO2 emissions from liquid fuel consumption (% of total)',\n",
              "       'CO2 emissions from liquid fuel consumption (kt)',\n",
              "       'CO2 emissions (kt)', 'CO2 emissions (kg per 2015 US$ of GDP)',\n",
              "       'CO2 emissions from gaseous fuel consumption (% of total)',\n",
              "       'CO2 emissions from gaseous fuel consumption (kt)',\n",
              "       'CO2 intensity (kg per kg of oil equivalent energy use)',\n",
              "       'Energy use (kg of oil equivalent per capita)',\n",
              "       'Electric power consumption (kWh per capita)',\n",
              "       'Energy use (kg of oil equivalent) per $1,000 GDP (constant 2017 PPP)',\n",
              "       'Renewable energy consumption (% of total final energy consumption)',\n",
              "       'Electricity production from renewable sources, excluding hydroelectric (% of total)',\n",
              "       'Electricity production from renewable sources, excluding hydroelectric (kWh)',\n",
              "       'Renewable electricity output (% of total electricity output)',\n",
              "       'Electricity production from oil sources (% of total)',\n",
              "       'Electricity production from nuclear sources (% of total)',\n",
              "       'Electricity production from natural gas sources (% of total)',\n",
              "       'Electricity production from hydroelectric sources (% of total)',\n",
              "       'Electricity production from coal sources (% of total)',\n",
              "       'Access to electricity (% of population)',\n",
              "       'Foreign direct investment, net inflows (% of GDP)',\n",
              "       'Cereal yield (kg per hectare)',\n",
              "       'Average precipitation in depth (mm per year)',\n",
              "       'Agricultural irrigated land (% of total agricultural land)',\n",
              "       'Forest area (% of land area)', 'Forest area (sq. km)',\n",
              "       'Land area where elevation is below 5 meters (% of total land area)',\n",
              "       'Urban land area where elevation is below 5 meters (% of total land area)',\n",
              "       'Urban land area where elevation is below 5 meters (sq. km)',\n",
              "       'Rural land area where elevation is below 5 meters (% of total land area)',\n",
              "       'Rural land area where elevation is below 5 meters (sq. km)',\n",
              "       'Arable land (% of land area)',\n",
              "       'Agricultural land (% of land area)', 'Agricultural land (sq. km)'],\n",
              "      dtype=object)"
            ]
          },
          "metadata": {},
          "execution_count": 78
        }
      ]
    },
    {
      "cell_type": "markdown",
      "source": [
        "Now, Let us explore statistical analysis of 'Total greenhouse gas emissions (% change from 1990)' values across various countries.\n",
        "\n",
        "Using bar plot to get the insights."
      ],
      "metadata": {
        "id": "WNyI83rnMjqN"
      }
    },
    {
      "cell_type": "code",
      "source": [
        "#filtering only greenhouse gas indicator values\n",
        "df_greenhouse_gas = df_year_as_column.where (df_year_as_column['Indicator Name'] == 'Total greenhouse gas emissions (% change from 1990)').dropna()\n",
        "\n",
        "#filtering only United Arab Emirates Values\n",
        "df_ARE_data = df_greenhouse_gas.where (df_greenhouse_gas['Country Name'] == 'United Arab Emirates').dropna()\n",
        "\n",
        "\n",
        "fig, ax = plt.subplots(figsize = (10,5))\n",
        "ax.bar(df_ARE_data.index, df_ARE_data.Value, alpha=0.8, color='blue')\n",
        "plt.xticks(rotation='vertical')\n",
        "plt.title('Greeen house gas emissions of United Arab Emirates')\n",
        "plt.xlabel('Year', fontsize=12)\n",
        "plt.ylabel('Total greenhouse gas emissions'+ '\\n' + '% change', fontsize=12)\n",
        "plt.show()"
      ],
      "metadata": {
        "colab": {
          "base_uri": "https://localhost:8080/",
          "height": 368
        },
        "id": "jSNXELTGM-eG",
        "outputId": "565cac21-f67d-43a5-fa2d-4716ee6a6df2"
      },
      "execution_count": 8,
      "outputs": [
        {
          "output_type": "display_data",
          "data": {
            "text/plain": [
              "<Figure size 720x360 with 1 Axes>"
            ],
            "image/png": "[encoded data removed]"
          },
          "metadata": {
            "needs_background": "light"
          }
        }
      ]
    },
    {
      "cell_type": "markdown",
      "source": [
        "The above trend shows that the % change in total green house gas emissions is increasing with years. "
      ],
      "metadata": {
        "id": "LXJ_FR9d9VpW"
      }
    },
    {
      "cell_type": "markdown",
      "source": [
        "Let us explore the Total greenhouse gas emissions (% change from 1990) of top 3 populated country of the year 2020 and compare with United Arab Emirites."
      ],
      "metadata": {
        "id": "F_2wwhmPAEgi"
      }
    },
    {
      "cell_type": "code",
      "source": [
        "#filtering only the 'Population, total' indicator values of all countries\n",
        "\n",
        "df_population_data = df_year_as_column.where (df_year_as_column['Indicator Name'] == 'Population, total').dropna()\n",
        "\n",
        "\n",
        "#Resetting the index as Year value is kept as an index to filter only the Year-2020 data \n",
        "df_population_data.reset_index(inplace =True)\n",
        "df_population_data_2020 = df_population_data.where(df_population_data['Year']=='2020').dropna()\n",
        "\n",
        "#Finding the top 3 populated country of the year 2019\n",
        "df_population_data_2020.sort_values(by = ['Value'], ascending = False)"
      ],
      "metadata": {
        "colab": {
          "base_uri": "https://localhost:8080/",
          "height": 424
        },
        "id": "UyOymDqBADbh",
        "outputId": "de6aad38-dfc9-48e1-9070-860160a319da"
      },
      "execution_count": 38,
      "outputs": [
        {
          "output_type": "execute_result",
          "data": {
            "text/plain": [
              "       Year            Country Name Country Code     Indicator Name  \\\n",
              "16125  2020                   World          WLD  Population, total   \n",
              "15970  2020        IDA & IBRD total          IBT  Population, total   \n",
              "16006  2020     Low & middle income          LMY  Population, total   \n",
              "16022  2020           Middle income          MIC  Population, total   \n",
              "15969  2020               IBRD only          IBD  Population, total   \n",
              "...     ...                     ...          ...                ...   \n",
              "15951  2020               Gibraltar          GIB  Population, total   \n",
              "16121  2020  British Virgin Islands          VGB  Population, total   \n",
              "16054  2020                   Palau          PLW  Population, total   \n",
              "16111  2020                  Tuvalu          TUV  Population, total   \n",
              "16045  2020                   Nauru          NRU  Population, total   \n",
              "\n",
              "      Indicator Code         Value  \n",
              "16125    SP.POP.TOTL  7.761620e+09  \n",
              "15970    SP.POP.TOTL  6.570992e+09  \n",
              "16006    SP.POP.TOTL  6.518254e+09  \n",
              "16022    SP.POP.TOTL  5.853105e+09  \n",
              "15969    SP.POP.TOTL  4.862388e+09  \n",
              "...              ...           ...  \n",
              "15951    SP.POP.TOTL  3.369100e+04  \n",
              "16121    SP.POP.TOTL  3.023700e+04  \n",
              "16054    SP.POP.TOTL  1.809200e+04  \n",
              "16111    SP.POP.TOTL  1.179200e+04  \n",
              "16045    SP.POP.TOTL  1.083400e+04  \n",
              "\n",
              "[265 rows x 6 columns]"
            ],
            "text/html": [
              "\n",
              "  <div id=\"df-17a73536-2087-4ccd-b76a-805b4b9e51bd\">\n",
              "    <div class=\"colab-df-container\">\n",
              "      <div>\n",
              "<style scoped>\n",
              "    .dataframe tbody tr th:only-of-type {\n",
              "        vertical-align: middle;\n",
              "    }\n",
              "\n",
              "    .dataframe tbody tr th {\n",
              "        vertical-align: top;\n",
              "    }\n",
              "\n",
              "    .dataframe thead th {\n",
              "        text-align: right;\n",
              "    }\n",
              "</style>\n",
              "<table border=\"1\" class=\"dataframe\">\n",
              "  <thead>\n",
              "    <tr style=\"text-align: right;\">\n",
              "      <th></th>\n",
              "      <th>Year</th>\n",
              "      <th>Country Name</th>\n",
              "      <th>Country Code</th>\n",
              "      <th>Indicator Name</th>\n",
              "      <th>Indicator Code</th>\n",
              "      <th>Value</th>\n",
              "    </tr>\n",
              "  </thead>\n",
              "  <tbody>\n",
              "    <tr>\n",
              "      <th>16125</th>\n",
              "      <td>2020</td>\n",
              "      <td>World</td>\n",
              "      <td>WLD</td>\n",
              "      <td>Population, total</td>\n",
              "      <td>SP.POP.TOTL</td>\n",
              "      <td>7.761620e+09</td>\n",
              "    </tr>\n",
              "    <tr>\n",
              "      <th>15970</th>\n",
              "      <td>2020</td>\n",
              "      <td>IDA &amp; IBRD total</td>\n",
              "      <td>IBT</td>\n",
              "      <td>Population, total</td>\n",
              "      <td>SP.POP.TOTL</td>\n",
              "      <td>6.570992e+09</td>\n",
              "    </tr>\n",
              "    <tr>\n",
              "      <th>16006</th>\n",
              "      <td>2020</td>\n",
              "      <td>Low &amp; middle income</td>\n",
              "      <td>LMY</td>\n",
              "      <td>Population, total</td>\n",
              "      <td>SP.POP.TOTL</td>\n",
              "      <td>6.518254e+09</td>\n",
              "    </tr>\n",
              "    <tr>\n",
              "      <th>16022</th>\n",
              "      <td>2020</td>\n",
              "      <td>Middle income</td>\n",
              "      <td>MIC</td>\n",
              "      <td>Population, total</td>\n",
              "      <td>SP.POP.TOTL</td>\n",
              "      <td>5.853105e+09</td>\n",
              "    </tr>\n",
              "    <tr>\n",
              "      <th>15969</th>\n",
              "      <td>2020</td>\n",
              "      <td>IBRD only</td>\n",
              "      <td>IBD</td>\n",
              "      <td>Population, total</td>\n",
              "      <td>SP.POP.TOTL</td>\n",
              "      <td>4.862388e+09</td>\n",
              "    </tr>\n",
              "    <tr>\n",
              "      <th>...</th>\n",
              "      <td>...</td>\n",
              "      <td>...</td>\n",
              "      <td>...</td>\n",
              "      <td>...</td>\n",
              "      <td>...</td>\n",
              "      <td>...</td>\n",
              "    </tr>\n",
              "    <tr>\n",
              "      <th>15951</th>\n",
              "      <td>2020</td>\n",
              "      <td>Gibraltar</td>\n",
              "      <td>GIB</td>\n",
              "      <td>Population, total</td>\n",
              "      <td>SP.POP.TOTL</td>\n",
              "      <td>3.369100e+04</td>\n",
              "    </tr>\n",
              "    <tr>\n",
              "      <th>16121</th>\n",
              "      <td>2020</td>\n",
              "      <td>British Virgin Islands</td>\n",
              "      <td>VGB</td>\n",
              "      <td>Population, total</td>\n",
              "      <td>SP.POP.TOTL</td>\n",
              "      <td>3.023700e+04</td>\n",
              "    </tr>\n",
              "    <tr>\n",
              "      <th>16054</th>\n",
              "      <td>2020</td>\n",
              "      <td>Palau</td>\n",
              "      <td>PLW</td>\n",
              "      <td>Population, total</td>\n",
              "      <td>SP.POP.TOTL</td>\n",
              "      <td>1.809200e+04</td>\n",
              "    </tr>\n",
              "    <tr>\n",
              "      <th>16111</th>\n",
              "      <td>2020</td>\n",
              "      <td>Tuvalu</td>\n",
              "      <td>TUV</td>\n",
              "      <td>Population, total</td>\n",
              "      <td>SP.POP.TOTL</td>\n",
              "      <td>1.179200e+04</td>\n",
              "    </tr>\n",
              "    <tr>\n",
              "      <th>16045</th>\n",
              "      <td>2020</td>\n",
              "      <td>Nauru</td>\n",
              "      <td>NRU</td>\n",
              "      <td>Population, total</td>\n",
              "      <td>SP.POP.TOTL</td>\n",
              "      <td>1.083400e+04</td>\n",
              "    </tr>\n",
              "  </tbody>\n",
              "</table>\n",
              "<p>265 rows × 6 columns</p>\n",
              "</div>\n",
              "      <button class=\"colab-df-convert\" onclick=\"convertToInteractive('df-17a73536-2087-4ccd-b76a-805b4b9e51bd')\"\n",
              "              title=\"Convert this dataframe to an interactive table.\"\n",
              "              style=\"display:none;\">\n",
              "        \n",
              "  <svg xmlns=\"http://www.w3.org/2000/svg\" height=\"24px\"viewBox=\"0 0 24 24\"\n",
              "       width=\"24px\">\n",
              "    <path d=\"M0 0h24v24H0V0z\" fill=\"none\"/>\n",
              "    <path d=\"M18.56 5.44l.94 2.06.94-2.06 2.06-.94-2.06-.94-.94-2.06-.94 2.06-2.06.94zm-11 1L8.5 8.5l.94-2.06 2.06-.94-2.06-.94L8.5 2.5l-.94 2.06-2.06.94zm10 10l.94 2.06.94-2.06 2.06-.94-2.06-.94-.94-2.06-.94 2.06-2.06.94z\"/><path d=\"M17.41 7.96l-1.37-1.37c-.4-.4-.92-.59-1.43-.59-.52 0-1.04.2-1.43.59L10.3 9.45l-7.72 7.72c-.78.78-.78 2.05 0 2.83L4 21.41c.39.39.9.59 1.41.59.51 0 1.02-.2 1.41-.59l7.78-7.78 2.81-2.81c.8-.78.8-2.07 0-2.86zM5.41 20L4 18.59l7.72-7.72 1.47 1.35L5.41 20z\"/>\n",
              "  </svg>\n",
              "      </button>\n",
              "      \n",
              "  <style>\n",
              "    .colab-df-container {\n",
              "      display:flex;\n",
              "      flex-wrap:wrap;\n",
              "      gap: 12px;\n",
              "    }\n",
              "\n",
              "    .colab-df-convert {\n",
              "      background-color: #E8F0FE;\n",
              "      border: none;\n",
              "      border-radius: 50%;\n",
              "      cursor: pointer;\n",
              "      display: none;\n",
              "      fill: #1967D2;\n",
              "      height: 32px;\n",
              "      padding: 0 0 0 0;\n",
              "      width: 32px;\n",
              "    }\n",
              "\n",
              "    .colab-df-convert:hover {\n",
              "      background-color: #E2EBFA;\n",
              "      box-shadow: 0px 1px 2px rgba(60, 64, 67, 0.3), 0px 1px 3px 1px rgba(60, 64, 67, 0.15);\n",
              "      fill: #174EA6;\n",
              "    }\n",
              "\n",
              "    [theme=dark] .colab-df-convert {\n",
              "      background-color: #3B4455;\n",
              "      fill: #D2E3FC;\n",
              "    }\n",
              "\n",
              "    [theme=dark] .colab-df-convert:hover {\n",
              "      background-color: #434B5C;\n",
              "      box-shadow: 0px 1px 3px 1px rgba(0, 0, 0, 0.15);\n",
              "      filter: drop-shadow(0px 1px 2px rgba(0, 0, 0, 0.3));\n",
              "      fill: #FFFFFF;\n",
              "    }\n",
              "  </style>\n",
              "\n",
              "      <script>\n",
              "        const buttonEl =\n",
              "          document.querySelector('#df-17a73536-2087-4ccd-b76a-805b4b9e51bd button.colab-df-convert');\n",
              "        buttonEl.style.display =\n",
              "          google.colab.kernel.accessAllowed ? 'block' : 'none';\n",
              "\n",
              "        async function convertToInteractive(key) {\n",
              "          const element = document.querySelector('#df-17a73536-2087-4ccd-b76a-805b4b9e51bd');\n",
              "          const dataTable =\n",
              "            await google.colab.kernel.invokeFunction('convertToInteractive',\n",
              "                                                     [key], {});\n",
              "          if (!dataTable) return;\n",
              "\n",
              "          const docLinkHtml = 'Like what you see? Visit the ' +\n",
              "            '<a target=\"_blank\" href=https://colab.research.google.com/notebooks/data_table.ipynb>data table notebook</a>'\n",
              "            + ' to learn more about interactive tables.';\n",
              "          element.innerHTML = '';\n",
              "          dataTable['output_type'] = 'display_data';\n",
              "          await google.colab.output.renderOutput(dataTable, element);\n",
              "          const docLink = document.createElement('div');\n",
              "          docLink.innerHTML = docLinkHtml;\n",
              "          element.appendChild(docLink);\n",
              "        }\n",
              "      </script>\n",
              "    </div>\n",
              "  </div>\n",
              "  "
            ]
          },
          "metadata": {},
          "execution_count": 38
        }
      ]
    },
    {
      "cell_type": "markdown",
      "source": [
        "Let us explore the trends in 'Total green house gas emissions, (% change from 1990)\" of top 3 populated countries and United Arab Emirates."
      ],
      "metadata": {
        "id": "Ak8-5-rkKcTZ"
      }
    },
    {
      "cell_type": "code",
      "source": [
        "#filtering only India data\n",
        "df_India_data = df_greenhouse_gas.where (df_greenhouse_gas['Country Name'] == 'India').dropna()\n",
        "\n",
        "#filtering only China data\n",
        "df_China_data = df_greenhouse_gas.where (df_greenhouse_gas['Country Name'] == 'China').dropna()\n",
        "\n",
        "#filtering only United States\n",
        "df_US_data = df_greenhouse_gas.where (df_greenhouse_gas['Country Name'] == 'United States').dropna()\n",
        "\n",
        "#filtering only world data\n",
        "df_world_data = df_greenhouse_gas.where (df_greenhouse_gas['Country Name'] == 'World').dropna()\n",
        "\n",
        "#creating subplots to compare the trends in United Arab Emirates with other countries\n",
        "\n",
        "plt.figure()\n",
        "\n",
        "# create a 2x2 grid of subplots\n",
        "fig, ((ax1,ax2), (ax3,ax4)) = plt.subplots(2, 2, squeeze=False, sharex=True, sharey=True, figsize=(13,25))\n",
        "\n",
        "ax = [ax1, ax2, ax3, ax4]\n",
        "\n",
        "ax[0].bar(df_ARE_data.index, df_ARE_data.Value, alpha=0.8, color='red')\n",
        "ax[1].bar(df_China_data.index, df_China_data.Value, alpha=0.8, color='blue')\n",
        "ax[2].bar(df_India_data.index, df_India_data.Value, alpha=0.8, color='blue')\n",
        "ax[3].bar(df_US_data.index, df_US_data.Value, alpha=0.8, color='blue')\n",
        "\n",
        "# rotate the tick labels for the x axis\n",
        "plt.setp(ax[2].xaxis.get_majorticklabels(), rotation=45)\n",
        "plt.setp(ax[3].xaxis.get_majorticklabels(), rotation=45)\n",
        "\n",
        "ax[0].set_title(' United Arab Emirates')\n",
        "ax[1].set_title(' China')\n",
        "ax[2].set_title(' India')\n",
        "ax[3].set_title(' United States')\n",
        "plt.suptitle('Comparison of green house gas emission of 4 countries',fontsize=20)\n",
        "fig.text(0.5, 0.04, 'Year', ha='center')\n",
        "fig.text(0.04, 0.5, 'Total greenhouse gas emissions'+ '\\n' + '% change', va='center', rotation='vertical')\n",
        "\n",
        "    \n",
        "plt.show()\n"
      ],
      "metadata": {
        "colab": {
          "base_uri": "https://localhost:8080/",
          "height": 1000
        },
        "id": "AF60aeHV82UX",
        "outputId": "b3e5771e-dea2-4b5d-915b-ff22f7ab6cbc"
      },
      "execution_count": 103,
      "outputs": [
        {
          "output_type": "display_data",
          "data": {
            "text/plain": [
              "<Figure size 432x288 with 0 Axes>"
            ]
          },
          "metadata": {}
        },
        {
          "output_type": "display_data",
          "data": {
            "text/plain": [
              "<Figure size 936x1800 with 4 Axes>"
            ],
            "image/png": "[encoded data removed]"
          },
          "metadata": {
            "needs_background": "light"
          }
        }
      ]
    },
    {
      "cell_type": "markdown",
      "source": [
        "From the above trend it is clear that % change of green house gas emission is increasing in all the countries over years except for United States. Though the population of United States are greater than United Arab Emirates.% change of the green house gas emission in United states has decreased over years. Hence, population growth may not be correlated with % change of green house gas emission."
      ],
      "metadata": {
        "id": "d3qjkRjMWl06"
      }
    },
    {
      "cell_type": "markdown",
      "source": [
        "Let us explore correlation of \"green house gas emission\" with other indicators and see which is more related."
      ],
      "metadata": {
        "id": "mkGASUgkXvqZ"
      }
    },
    {
      "cell_type": "code",
      "source": [
        "data = [df_ARE_data['Value'], df_China_data['Value'], df_India_data['Value'], df_US_data['Value'], df_world_data['Value']]\n",
        "\n",
        "fig = plt.figure(figsize =(10, 7))\n",
        "\n",
        "# Creating axes instance\n",
        "ax = fig.add_axes([0, 0, 1, 1])\n",
        "\n",
        "# Creating plot\n",
        "bp = ax.boxplot(data)\n",
        "plt.xticks([1, 2, 3, 4, 5], ['ARE', 'China', 'India', 'US', 'World'])\n",
        "ax.set_title('Comparison of green house gas emission (% change)')\n",
        "ax.set_xlabel('Country Name')\n",
        "ax.set_ylabel('Total green house gas emission (% change)')\n",
        "\n",
        "# show plot\n",
        "plt.show()\n"
      ],
      "metadata": {
        "colab": {
          "base_uri": "https://localhost:8080/",
          "height": 582
        },
        "id": "M0K6aTGdXwIx",
        "outputId": "f4721dc2-0f79-42c1-fff8-a10fe8439cb1"
      },
      "execution_count": 104,
      "outputs": [
        {
          "output_type": "display_data",
          "data": {
            "text/plain": [
              "<Figure size 720x504 with 1 Axes>"
            ],
            "image/png": "[encoded data removed]"
          },
          "metadata": {
            "needs_background": "light"
          }
        }
      ]
    },
    {
      "cell_type": "markdown",
      "source": [
        "On comparing the median values, the US value seems to be much lesser than India, China & ARE. % Change of Total green house gas emission seems to be higher in case of United Arab Emirates(ARE). % change of green house gas emission of the \"World\" seems to be low."
      ],
      "metadata": {
        "id": "RYWhQWG55Krf"
      }
    },
    {
      "cell_type": "markdown",
      "source": [
        "Let us understand the corelations between Total green house gas emission and Urban population"
      ],
      "metadata": {
        "id": "HRFMPZmS8CQq"
      }
    },
    {
      "cell_type": "code",
      "source": [
        "#filtering only United Arab Emirates data\n",
        "df_ARE_all_data = df_year_as_column.where (df_year_as_column['Country Name'] == 'United Arab Emirates').dropna()\n",
        "\n",
        "#Removing the indicator 'Total greenhouse gas emissions (% change from 1990)'\n",
        "indicator_list = df_ARE_all_data['Indicator Name']. unique()\n",
        "corrcoef_output = list()\n",
        "\n",
        "df_ARE_all_data.reset_index(inplace = True)\n",
        "df_ARE_data.reset_index(inplace = True)\n",
        "\n",
        "for indicator in indicator_list:\n",
        "  if (indicator == 'Urban population'):\n",
        "    data1 = df_ARE_all_data.where(df_ARE_all_data['Indicator Name'] == 'Urban population').dropna()\n",
        "    data1= data1.iloc[:][31:53]\n",
        "    corrcoef_output.append(np.corrcoef(data1['Value'], df_ARE_data['Value'] )) \n",
        "    print(corrcoef_output)\n",
        "  \n",
        "\n"
      ],
      "metadata": {
        "colab": {
          "base_uri": "https://localhost:8080/"
        },
        "id": "P1yJz98ax-WP",
        "outputId": "b9c0ad4a-d1ce-43db-8b1a-1cd61d093a41"
      },
      "execution_count": 223,
      "outputs": [
        {
          "output_type": "stream",
          "name": "stdout",
          "text": [
            "[array([[1.        , 0.97806635],\n",
            "       [0.97806635, 1.        ]])]\n"
          ]
        }
      ]
    },
    {
      "cell_type": "markdown",
      "source": [
        "The correlation coefficient value between Urban population and % change of total green house gas emission indicates the high correlation between the same. Hence, we can say, green house gas emission increases on increase in urban population."
      ],
      "metadata": {
        "id": "BiisIZfQdgmM"
      }
    },
    {
      "cell_type": "code",
      "source": [
        ""
      ],
      "metadata": {
        "id": "YtojF3h2UU7N"
      },
      "execution_count": null,
      "outputs": []
    }
  ]
}